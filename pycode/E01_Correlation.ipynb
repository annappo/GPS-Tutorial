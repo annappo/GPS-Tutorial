{
 "cells": [
  {
   "cell_type": "code",
   "execution_count": null,
   "id": "0fe2db14-30a1-48c1-807e-7b24a4a2d33b",
   "metadata": {},
   "outputs": [],
   "source": [
    "# Example 1: correlation\n",
    "# SPDX-FileCopyrightText: Copyright (C) 2023 Andreas Naber <annappo@web.de>\n",
    "# SPDX-License-Identifier: GPL-3.0-only\n",
    "\n",
    "import matplotlib.pyplot as plt\n",
    "import numpy as np\n",
    "\n",
    "g = [-1,-1,+1,+1,+1,+1,-1,-1]\n",
    "\n",
    "f = [ 1, 1,-1,-1, 1,-1,-1,-1, \n",
    "     -1,-1, 1, 1, 1,-1,-1, 1, \n",
    "     -1, 1,-1,-1, 1,-1,-1, 1, \n",
    "      1, 1, 1,-1,-1, 1,-1, 1, \n",
    "     -1,-1,-1, 1,-1,-1, 1, 1, \n",
    "      1, 1, 1,-1, 1,-1, 1,-1, \n",
    "      1, 1,-1, 1,-1,-1,-1, 1, \n",
    "     -1,-1,-1, 1,-1, 1,-1, 1]\n",
    "\n",
    "c = np.correlate(f,g,mode='valid')   # swapping f and g will result in a\n",
    "                                     # 'mirrored' plot \n",
    "\n",
    "fig = plt.figure(figsize=(6,3))\n",
    "plt.plot(c,'-o',ms=4)\n",
    "plt.xlabel('Delay $\\\\tau$')\n",
    "plt.ylabel('Correlation')\n",
    "plt.show()"
   ]
  }
 ],
 "metadata": {
  "kernelspec": {
   "display_name": "Python 3 (ipykernel)",
   "language": "python",
   "name": "python3"
  },
  "language_info": {
   "codemirror_mode": {
    "name": "ipython",
    "version": 3
   },
   "file_extension": ".py",
   "mimetype": "text/x-python",
   "name": "python",
   "nbconvert_exporter": "python",
   "pygments_lexer": "ipython3",
   "version": "3.12.3"
  },
  "widgets": {
   "application/vnd.jupyter.widget-state+json": {
    "state": {},
    "version_major": 2,
    "version_minor": 0
   }
  }
 },
 "nbformat": 4,
 "nbformat_minor": 5
}
