{
 "cells": [
  {
   "cell_type": "code",
   "execution_count": null,
   "id": "00d00d75-8960-494a-926a-4945c16cdd03",
   "metadata": {},
   "outputs": [],
   "source": [
    "# Example 12: interpolated code-phases from measured data\n",
    "# SPDX-FileCopyrightText: Copyright (C) 2023 Andreas Naber <annappo@web.de>\n",
    "# SPDX-License-Identifier: GPL-3.0-only\n",
    "\n",
    "%matplotlib widget\n",
    "\n",
    "import json\n",
    "import matplotlib.pyplot as plt  \n",
    "import numpy as np\n",
    "\n",
    "with open('../data/230914_gpsCP_24_P.json','r') as file:\n",
    "    COPH_LIST=json.load(file)  \n",
    "    \n",
    "stream,cp = zip(*COPH_LIST)\n",
    "stream,cp = np.asarray(stream),np.asarray(cp)\n",
    "\n",
    "t0 = 5015\n",
    "t1 = 5070\n",
    "\n",
    "fig = plt.figure(figsize=(5,3))\n",
    "fig.canvas.header_visible = False\n",
    "plt.plot((stream[t0:t1]-stream[t0])*32/1000,cp[t0:t1],'o-',ms=1,lw=0.1) \n",
    "plt.xlabel('time / s')\n",
    "plt.ylabel('code phase / $T_S$')\n",
    "plt.tight_layout()\n",
    "plt.show()"
   ]
  },
  {
   "cell_type": "code",
   "execution_count": null,
   "id": "6d9fbcca-cbdd-45ef-8479-36ea12e80674",
   "metadata": {},
   "outputs": [],
   "source": []
  }
 ],
 "metadata": {
  "kernelspec": {
   "display_name": "Python 3 (ipykernel)",
   "language": "python",
   "name": "python3"
  },
  "language_info": {
   "codemirror_mode": {
    "name": "ipython",
    "version": 3
   },
   "file_extension": ".py",
   "mimetype": "text/x-python",
   "name": "python",
   "nbconvert_exporter": "python",
   "pygments_lexer": "ipython3",
   "version": "3.11.6"
  }
 },
 "nbformat": 4,
 "nbformat_minor": 5
}
