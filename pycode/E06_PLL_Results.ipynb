{
 "cells": [
  {
   "cell_type": "code",
   "execution_count": null,
   "id": "04f53a9f-1432-4831-86c1-2a0afbdbf107",
   "metadata": {},
   "outputs": [],
   "source": [
    "# Example 6: Phase-Locked-Loop (results)\n",
    "# SPDX-FileCopyrightText: Copyright (C) 2023 Andreas Naber <annappo@web.de>\n",
    "# SPDX-License-Identifier: GPL-3.0-only\n",
    "\n",
    "%matplotlib widget\n",
    "\n",
    "import json\n",
    "import matplotlib.pyplot as plt  \n",
    "import numpy as np\n",
    "\n",
    "with open(f'../data/230914_gpsCP_24_gains.json','r') as file:\n",
    "    cp=np.asarray(json.load(file))\n",
    "    \n",
    "with open(f'../data/230914_gpsFreq_24_gains.json','r') as file:\n",
    "    freq=json.load(file)  \n",
    "    \n",
    "gain1,gain2,gain3,gain4 = zip(*freq)\n",
    "    \n",
    "fig,(ax0,ax1) = plt.subplots(1,2,figsize=(10,4))\n",
    "fig.subplots_adjust(left=0.1)\n",
    "fig.canvas.header_visible = False      # hide header\n",
    "   \n",
    "ax0.plot(gain1[4:],'o',ms=1,label='$g_2 = 10$')\n",
    "ax0.plot(gain2[4:],'o-',ms=0.5,label='$g_2 = 2.0$')\n",
    "ax0.plot(gain3[4:],'o-',ms=0.5,label='$g_2 = 1.0$')\n",
    "ax0.plot(gain4[4:],'o-',ms=0.5,label='$g_2 = 0.5$')\n",
    "ax0.set_xlim(-4,154)\n",
    "ax0.set_ylim(665,675)\n",
    "ax0.set_title('Measured doppler frequency using different gains for PLL',\n",
    "              fontsize=9)\n",
    "ax0.set_xlabel('stream no')\n",
    "ax0.set_ylabel('frequency / Hz')\n",
    "ax0.legend()    \n",
    "\n",
    "t = [x*0.032 for x in range(len(cp))]\n",
    "ax1.plot(t,cp,'o',ms=0.5)\n",
    "ax1.set_title('Measured code phase from correlation',fontsize=9)\n",
    "ax1.set_xlabel('time / s')\n",
    "ax1.set_ylabel('code phase / $T_S$')\n",
    "\n",
    "plt.show()\n"
   ]
  },
  {
   "cell_type": "code",
   "execution_count": null,
   "id": "5fa8dd07-d844-4496-acb7-c2a4b4976d2d",
   "metadata": {},
   "outputs": [],
   "source": []
  }
 ],
 "metadata": {
  "kernelspec": {
   "display_name": "Python 3 (ipykernel)",
   "language": "python",
   "name": "python3"
  },
  "language_info": {
   "codemirror_mode": {
    "name": "ipython",
    "version": 3
   },
   "file_extension": ".py",
   "mimetype": "text/x-python",
   "name": "python",
   "nbconvert_exporter": "python",
   "pygments_lexer": "ipython3",
   "version": "3.11.6"
  }
 },
 "nbformat": 4,
 "nbformat_minor": 5
}
