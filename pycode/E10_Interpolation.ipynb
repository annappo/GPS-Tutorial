{
 "cells": [
  {
   "cell_type": "code",
   "execution_count": null,
   "id": "bc3abfcf-4f75-4424-822d-52eb72689a9e",
   "metadata": {},
   "outputs": [],
   "source": [
    "# Example 10: code phase interpolation\n",
    "# SPDX-FileCopyrightText: Copyright (C) 2023 Andreas Naber <annappo@web.de>\n",
    "# SPDX-License-Identifier: GPL-3.0-only\n",
    "\n",
    "%matplotlib widget\n",
    "\n",
    "import numpy as np\n",
    "import matplotlib.pyplot as plt\n",
    "\n",
    "x = np.linspace(-1,+1,3)    # create 3 values for x axis\n",
    "y = np.random.random(3)     # create random points for y\n",
    "i = y.argmax()              # put maximum value to center \n",
    "if i != 1:                       \n",
    "    y[i],y[1] = y[1],y[i]\n",
    "\n",
    "# fit to parabola\n",
    "p = np.polyfit(x,y,2)       # polynom fit of 2nd order; result is tuple of \n",
    "                            # coefficients\n",
    "f = np.poly1d(p)            # define 2nd order function with found coefficients\n",
    "mx = -0.5*p[1]/p[0]         # solution for extremum (first derivative = 0)\n",
    "# or 'manually':\n",
    "# mx = 0.5*(y[2]-y[0])/(2*y[1]-y[2]-y[0])   # mx is in [-0.5,+0.5]\n",
    "\n",
    "# fit to symmetrical triangle \n",
    "if y[0] > y[2]:\n",
    "    ymin = y[2]\n",
    "    xx = 0.5*(y[2]-y[0])/(y[1]-y[2])\n",
    "    yy = -(y[1]-y[2])*xx + y[1]\n",
    "else:\n",
    "    ymin = y[0]\n",
    "    xx = 0.5*(y[2]-y[0])/(y[1]-y[0])\n",
    "    yy = (y[1]-y[0])*xx + y[1]\n",
    "\n",
    "fig = plt.figure(figsize=(4,3))\n",
    "fig.canvas.header_visible = False\n",
    "plt.plot([-1,xx,1],[y[0],yy,y[2]],'-r')\n",
    "plt.plot([xx,xx],[yy,ymin],'--r',lw=.5)\n",
    "xf = np.linspace(-1,+1,100)      \n",
    "plt.plot(xf,f(xf))\n",
    "plt.plot([mx,mx],[ymin,f(mx)],'--b',lw=.5)\n",
    "plt.plot(x,y,'ko')\n",
    "plt.show()"
   ]
  },
  {
   "cell_type": "code",
   "execution_count": null,
   "id": "a9e90e2c-8937-4989-a23f-f939d5241c7e",
   "metadata": {},
   "outputs": [],
   "source": []
  }
 ],
 "metadata": {
  "kernelspec": {
   "display_name": "Python 3 (ipykernel)",
   "language": "python",
   "name": "python3"
  },
  "language_info": {
   "codemirror_mode": {
    "name": "ipython",
    "version": 3
   },
   "file_extension": ".py",
   "mimetype": "text/x-python",
   "name": "python",
   "nbconvert_exporter": "python",
   "pygments_lexer": "ipython3",
   "version": "3.11.6"
  }
 },
 "nbformat": 4,
 "nbformat_minor": 5
}
