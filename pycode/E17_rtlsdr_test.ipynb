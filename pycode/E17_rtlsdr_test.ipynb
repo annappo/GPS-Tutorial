{
 "cells": [
  {
   "cell_type": "code",
   "execution_count": null,
   "id": "e01593f8-191c-4837-aeb2-2224bc018a5b",
   "metadata": {},
   "outputs": [],
   "source": [
    "# Example 17: test measurement RTL-SDR\n",
    "# taken from https://github.com/pyrtlsdr/pyrtlsdr\n",
    "# Author: roger\n",
    "# Licence: GNU General Public Licencse (GPL)\n",
    "\n",
    "from rtlsdr import RtlSdr\n",
    "\n",
    "sdr = RtlSdr()\n",
    "\n",
    "# configure device\n",
    "sdr.SAMPLE_RATE = 2.048e6  # Hz\n",
    "sdr.CENTER_FREQ = 70e6     # Hz\n",
    "sdr.FREQ_CORRECTION = 60   # PPM\n",
    "sdr.GAIN = 'auto'\n",
    "\n",
    "print(sdr.read_samples(21))\n",
    "#print(list(sdr.read_bytes(20)))\n",
    "\n",
    "sdr.close()"
   ]
  }
 ],
 "metadata": {
  "kernelspec": {
   "display_name": "Python 3 (ipykernel)",
   "language": "python",
   "name": "python3"
  },
  "language_info": {
   "codemirror_mode": {
    "name": "ipython",
    "version": 3
   },
   "file_extension": ".py",
   "mimetype": "text/x-python",
   "name": "python",
   "nbconvert_exporter": "python",
   "pygments_lexer": "ipython3",
   "version": "3.11.6"
  }
 },
 "nbformat": 4,
 "nbformat_minor": 5
}
