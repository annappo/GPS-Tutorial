{
 "cells": [
  {
   "cell_type": "code",
   "execution_count": null,
   "id": "0552c585-a096-4b12-8676-d0c81dfa7c88",
   "metadata": {},
   "outputs": [],
   "source": [
    "# Example 2: correlation Gold-code\n",
    "# SPDX-FileCopyrightText: Copyright (C) 2023 Andreas Naber <annappo@web.de>\n",
    "# SPDX-License-Identifier: GPL-3.0-only\n",
    "\n",
    "import pycode.cacodes as cacodes              # C/A codes of all satellites\n",
    "import numpy as np\n",
    "import matplotlib.pyplot as plt\n",
    "\n",
    "delay = 500\n",
    "\n",
    "f = []\n",
    "for i in range(4):\n",
    "    f += cacodes.cacode02\n",
    "f = np.roll(f,delay)\n",
    "\n",
    "corr01 = np.correlate(f,cacodes.cacode02,mode='valid')\n",
    "corr02 = np.correlate(f,cacodes.cacode03,mode='valid')\n",
    "\n",
    "fig,(ax,bx) = plt.subplots(1,2,sharey='row',figsize=(8,3))\n",
    "fig.canvas.header_visible = False     \n",
    "fig.subplots_adjust(wspace=.03)\n",
    "ax.plot(corr01,'-')\n",
    "ax.set_title('Correlation of data f with PRN02)\n",
    "ax.set_xlabel('Delay $\\\\tau$')\n",
    "ax.set_ylabel('Correlation')\n",
    "bx.plot(corr02,'-')\n",
    "bx.set_title('Correlation of data f with PRN03')\n",
    "bx.set_xlabel('Delay $\\\\tau$')\n",
    "plt.show()\n"
   ]
  },
  {
   "cell_type": "code",
   "execution_count": null,
   "id": "21bb92ae-5ede-4c56-a8fa-d45cd26a4ee2",
   "metadata": {},
   "outputs": [],
   "source": []
  }
 ],
 "metadata": {
  "kernelspec": {
   "display_name": "Python 3 (ipykernel)",
   "language": "python",
   "name": "python3"
  },
  "language_info": {
   "codemirror_mode": {
    "name": "ipython",
    "version": 3
   },
   "file_extension": ".py",
   "mimetype": "text/x-python",
   "name": "python",
   "nbconvert_exporter": "python",
   "pygments_lexer": "ipython3",
   "version": "3.12.3"
  },
  "widgets": {
   "application/vnd.jupyter.widget-state+json": {
    "state": {},
    "version_major": 2,
    "version_minor": 0
   }
  }
 },
 "nbformat": 4,
 "nbformat_minor": 5
}
