{
 "cells": [
  {
   "cell_type": "code",
   "execution_count": null,
   "id": "094f113b-2e23-42a2-8a1c-be73242d6835",
   "metadata": {},
   "outputs": [],
   "source": [
    "# Example A1: calculation of correlation using FFT\n",
    "# SPDX-FileCopyrightText: Copyright (C) 2023 Andreas Naber <annappo@web.de>\n",
    "# SPDX-License-Identifier: GPL-3.0-only\n",
    "\n",
    "import gpslib_tutorial as gpslib\n",
    "from scipy.fft import fft, ifft\n",
    "import numpy as np\n",
    "import matplotlib.pyplot as plt\n",
    "\n",
    "sat_1 = 1\n",
    "sat_2 = 2\n",
    "codeSamples = 2048\n",
    "NCopies = 4\n",
    "delay = 500\n",
    "\n",
    "def fftCorrelate(data,cacode): \n",
    "    fftData = fft(data)    \n",
    "    fftCacode = fft(cacode)\n",
    "    fftCorr = fftData*np.conjugate(fftCacode) \n",
    "    corr = ifft(fftCorr)\n",
    "    return corr\n",
    "\n",
    "f = gpslib.GPSCacodeRep(sat_1,codeSamples,NCopies,delay)\n",
    "g1 = gpslib.GPSCacodeRep(sat_1,codeSamples,NCopies,0)\n",
    "g2 = gpslib.GPSCacodeRep(sat_2,codeSamples,NCopies,0)\n",
    "\n",
    "corr01 = fftCorrelate(f,g1)\n",
    "corr02 = fftCorrelate(f,g2)\n",
    "\n",
    "plt.subplots(1,2,sharey='row',figsize=(10,4))\n",
    "plt.subplots_adjust(wspace=.03)\n",
    "plt.subplot(1,2,1)\n",
    "plt.plot(corr01.real)\n",
    "plt.plot(corr01.imag)\n",
    "plt.title('Correlation of data f with PRN01')\n",
    "plt.xlabel('Delay $\\\\tau$')\n",
    "plt.ylabel('Correlation')\n",
    "plt.subplot(1,2,2)\n",
    "plt.plot(corr02.real)\n",
    "plt.plot(corr02.imag)\n",
    "plt.title('Correlation of data f with PRN02')\n",
    "plt.xlabel('Delay $\\\\tau$')\n",
    "plt.show()"
   ]
  },
  {
   "cell_type": "code",
   "execution_count": null,
   "id": "485113bc-55dd-4a6f-a2c5-a495bb507d87",
   "metadata": {},
   "outputs": [],
   "source": []
  }
 ],
 "metadata": {
  "kernelspec": {
   "display_name": "Python 3 (ipykernel)",
   "language": "python",
   "name": "python3"
  },
  "language_info": {
   "codemirror_mode": {
    "name": "ipython",
    "version": 3
   },
   "file_extension": ".py",
   "mimetype": "text/x-python",
   "name": "python",
   "nbconvert_exporter": "python",
   "pygments_lexer": "ipython3",
   "version": "3.11.6"
  }
 },
 "nbformat": 4,
 "nbformat_minor": 5
}
